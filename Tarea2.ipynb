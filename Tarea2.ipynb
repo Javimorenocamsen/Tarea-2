{
 "cells": [
  {
   "cell_type": "code",
   "execution_count": 1,
   "metadata": {},
   "outputs": [],
   "source": [
    "import pandas as pd\n",
    "import matplotlib.pyplot as plt\n",
    "import csv\n",
    "import numpy as np\n",
    "import pylab\n",
    "from sklearn.linear_model import LinearRegression\n",
    "\n",
    "data = pd.read_csv('https://raw.githubusercontent.com/leoferres/gitiele356b/main/data/hdi.csv', sep=',')\n",
    "\n",
    "archivo = open('C:\\\\Users\\\\Javi\\\\Desktop\\\\Porcentaje Vacunación RM.csv','r')\n",
    "lector = csv.reader(archivo, delimiter=\";\")"
   ]
  },
  {
   "cell_type": "code",
   "execution_count": 2,
   "metadata": {},
   "outputs": [
    {
     "data": {
      "image/png": "[encoded data removed]",
      "text/plain": [
       "<Figure size 432x288 with 1 Axes>"
      ]
     },
     "metadata": {
      "needs_background": "light"
     },
     "output_type": "display_data"
    }
   ],
   "source": [
    "comunas = []\n",
    "for fila in lector:\n",
    "    if lector.line_num > 1:\n",
    "        comuna = {'nombre':fila[0], 'codigo':fila[7], 'porcentaje':fila[6]}\n",
    "        comunas.append(comuna)\n",
    "        \n",
    "for c in comunas:\n",
    "    c['porcentaje'] = int(c['porcentaje'].replace('%',''))\n",
    "\n",
    "for i in range(len(data['comuna'])):\n",
    "    for c in comunas:\n",
    "        if int(c['codigo']) == int(data['comuna'][i]):\n",
    "            c['HDI'] = float(data['HDI'][i])\n",
    "\n",
    "df = pd.DataFrame(comunas)\n",
    "df = df.drop(['nombre', 'codigo'], axis=1)\n",
    "\n",
    "correlacion = df.corr(method='pearson')\n",
    "\n",
    "X = []\n",
    "for x in df['HDI']:\n",
    "    X.append(x)\n",
    "Y = []\n",
    "for y in df['porcentaje']:\n",
    "    Y.append(y)\n",
    "\n",
    "df.plot.scatter(x='HDI', y='porcentaje', c='LightGreen')\n",
    "m, b = np.polyfit(X, Y, 1)\n",
    "mx = []\n",
    "for i in X:\n",
    "    mx.append(m*i)\n",
    "    \n",
    "plt.plot(X, mx + b, label='Correlación: 0,728395', color='Blue')\n",
    "plt.legend()\n",
    "plt.show()"
   ]
  },
  {
   "cell_type": "code",
   "execution_count": 3,
   "metadata": {},
   "outputs": [
    {
     "data": {
      "image/png": "[encoded data removed]",
      "text/plain": [
       "<Figure size 432x288 with 1 Axes>"
      ]
     },
     "metadata": {
      "needs_background": "light"
     },
     "output_type": "display_data"
    }
   ],
   "source": [
    "archivo2 = open('C:\\\\Users\\\\Javi\\\\Desktop\\\\Edad_Promedio_Comuna.csv','r')\n",
    "lector2 = csv.reader(archivo2, delimiter=\";\")\n",
    "edad_com = []\n",
    "for fila in lector2:\n",
    "    if lector2.line_num > 1:\n",
    "        edad = {'edad':float(fila[1]), 'cod':int(fila[2])}\n",
    "        edad_com.append(edad)\n",
    "        \n",
    "for c in comunas:\n",
    "    for e in edad_com:\n",
    "        if int(c['codigo']) == (e['cod']):\n",
    "            c['promedio'] = (e['edad'])\n",
    "\n",
    "df2 = pd.DataFrame(comunas)\n",
    "df2 = df2.drop(['nombre', 'codigo', 'HDI'], axis=1)\n",
    "\n",
    "correlacion2 = df2.corr(method='pearson')\n",
    "\n",
    "X2 = []\n",
    "for x in df2['promedio']:\n",
    "    X2.append(x)\n",
    "Y2 = []\n",
    "for y in df2['porcentaje']:\n",
    "    Y2.append(y)\n",
    "\n",
    "df2.plot.scatter(x='promedio', y='porcentaje', c='Pink')\n",
    "m2, b2 = np.polyfit(X2, Y2, 1)\n",
    "mx2 = []\n",
    "for i in X2:\n",
    "    mx2.append(m2*i)\n",
    "    \n",
    "plt.plot(X2, mx2 + b2, label='Correlación: 0,552532', color='m')\n",
    "plt.legend()\n",
    "plt.show()"
   ]
  },
  {
   "cell_type": "code",
   "execution_count": 4,
   "metadata": {},
   "outputs": [],
   "source": [
    "#Si bien, la correlación entre el Indice de Desarrollo Humano y el porcentaje de población vacunada por comuna es\n",
    "# muy alto, luego de analizar las correlaciones en ambos casos se puede concluir que efectivamente en las comunas \n",
    "#con mayor Indice de Desarrollo Humano se concentran las personas de mayor edad, lo que explicaría el porcentaje \n",
    "# tan elevado de la primera correlación.\n",
    "#\n",
    "#\n",
    "#En el caso de los porcentajes de vacunación por comuna se puede apreciar que existe un error ya que en algunos\n",
    "#casos este supera el 100%. Esto se debe a que la cantidad de población total por comuna se obtuvo de datos del \n",
    "#censo 2017, en cambio, la cantidad de población vacunada son datos actualizados hasta la fecha.\n",
    "#\n",
    "#Finalmente, se podría decir que el efecto de que las comunas con mayor ingresos fueron vacunadas primero se \n",
    "#podría deber a que son las comunas que concentran las personas de mayor edad. Aunque también podrían existir \n",
    "#otros factores (que no fueron analizados para el caso) como por ejemplo el porcentaje de funcionarios del \n",
    "#área de la salud en cada comuna.\n",
    "#"
   ]
  }
 ],
 "metadata": {
  "kernelspec": {
   "display_name": "Python 3",
   "language": "python",
   "name": "python3"
  },
  "language_info": {
   "codemirror_mode": {
    "name": "ipython",
    "version": 3
   },
   "file_extension": ".py",
   "mimetype": "text/x-python",
   "name": "python",
   "nbconvert_exporter": "python",
   "pygments_lexer": "ipython3",
   "version": "3.8.5"
  }
 },
 "nbformat": 4,
 "nbformat_minor": 4
}
